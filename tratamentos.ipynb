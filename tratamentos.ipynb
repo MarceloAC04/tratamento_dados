{
 "cells": [
  {
   "cell_type": "code",
   "execution_count": null,
   "metadata": {},
   "outputs": [],
   "source": [
    "import pandas as pd\n",
    "\n",
    "df = pd.read_excel('dados_ausentes.xlsx')\n",
    "print(df)"
   ]
  },
  {
   "cell_type": "code",
   "execution_count": null,
   "metadata": {},
   "outputs": [],
   "source": [
    "# Corrigir erros de formatação (maiusculo, minusculo)\n",
    "df['Cidade'] = df['Cidade'].str.capitalize() # 1-Campo maiusculo\n",
    "df['Cidade'] = df['Cidade'].str.title() # +2-Campo maiusculos\n",
    "print(df)"
   ]
  },
  {
   "cell_type": "code",
   "execution_count": 18,
   "metadata": {},
   "outputs": [
    {
     "name": "stdout",
     "output_type": "stream",
     "text": [
      "         Nome  Idade        Cidade  Salário Faixa Etária\n",
      "0  Franscisco     28            SP   3500.0       Adulto\n",
      "1       James     28            RJ   4500.0       Adulto\n",
      "2        Dave     35           NaN      NaN   Meia-Idade\n",
      "3         Ana     22      salvador   5000.0       Adulto\n",
      "4      Mônica     28  porto alegre   4800.0       Adulto\n",
      "5     Jessica     22            SP   5000.0       Adulto\n",
      "6      Carlos     35  porto alegre   3410.0   Meia-Idade\n"
     ]
    },
    {
     "name": "stderr",
     "output_type": "stream",
     "text": [
      "C:\\Users\\48260449846\\AppData\\Local\\Temp\\ipykernel_6256\\3041757170.py:2: SettingWithCopyWarning: \n",
      "A value is trying to be set on a copy of a slice from a DataFrame.\n",
      "Try using .loc[row_indexer,col_indexer] = value instead\n",
      "\n",
      "See the caveats in the documentation: https://pandas.pydata.org/pandas-docs/stable/user_guide/indexing.html#returning-a-view-versus-a-copy\n",
      "  df['Cidade'] = df['Cidade'].str.lower().replace({'são paulo': 'SP', 'rio de janeiro': 'RJ', 'rj': 'RJ'})\n"
     ]
    }
   ],
   "source": [
    "# Substituição de valores categoricos: sao paulo, sp, rj\n",
    "df['Cidade'] = df['Cidade'].str.lower().replace({'são paulo': 'SP', 'rio de janeiro': 'RJ', 'rj': 'RJ'})\n",
    "print(df)"
   ]
  },
  {
   "cell_type": "code",
   "execution_count": null,
   "metadata": {},
   "outputs": [],
   "source": [
    "# Identificar os tipos de dados das colunas\n",
    "coluna_string = df.select_dtypes(include=['string', 'object']).columns.tolist()\n",
    "print(coluna_string)"
   ]
  },
  {
   "cell_type": "code",
   "execution_count": null,
   "metadata": {},
   "outputs": [],
   "source": [
    "# Identificar os tipos de dados das colunas de float\n",
    "coluna_string = df.select_dtypes(include=['float']).columns.tolist()\n",
    "print(coluna_string)"
   ]
  },
  {
   "cell_type": "code",
   "execution_count": null,
   "metadata": {},
   "outputs": [],
   "source": [
    "df['Idade'].fillna(df['Idade'].mean(), inplace=True)"
   ]
  },
  {
   "cell_type": "code",
   "execution_count": null,
   "metadata": {},
   "outputs": [],
   "source": [
    "# Converte os dados para int\n",
    "df['Idade'] = df['Idade'].astype(int)\n",
    "print(df)"
   ]
  },
  {
   "cell_type": "code",
   "execution_count": null,
   "metadata": {},
   "outputs": [],
   "source": [
    "# Pega o valor de cima\n",
    "df['Idade'] = df['Idade'].ffill()\n",
    "\n",
    "# Pega o valor debaixo\n",
    "df['Idade'] = df['Idade'].bfill()"
   ]
  },
  {
   "cell_type": "code",
   "execution_count": null,
   "metadata": {},
   "outputs": [],
   "source": [
    "# Criar uma nova coluna: Faixa Etária\n",
    "df['Faixa Etária'] = pd.cut(df['Idade'], bins=[0, 18, 30, 50, 100], labels=['Jovem', 'Adulto', 'Meia-Idade', 'Idoso'])\n",
    "print(df)\n"
   ]
  },
  {
   "cell_type": "code",
   "execution_count": null,
   "metadata": {},
   "outputs": [],
   "source": [
    "# Remover duplicadas\n",
    "df = df.drop_duplicates(subset=['Nome'])\n",
    "print(df)"
   ]
  }
 ],
 "metadata": {
  "kernelspec": {
   "display_name": "Python 3",
   "language": "python",
   "name": "python3"
  },
  "language_info": {
   "codemirror_mode": {
    "name": "ipython",
    "version": 3
   },
   "file_extension": ".py",
   "mimetype": "text/x-python",
   "name": "python",
   "nbconvert_exporter": "python",
   "pygments_lexer": "ipython3",
   "version": "3.12.1"
  }
 },
 "nbformat": 4,
 "nbformat_minor": 2
}
