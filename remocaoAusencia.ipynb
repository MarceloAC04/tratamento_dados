{
 "cells": [
  {
   "cell_type": "code",
   "execution_count": 1,
   "metadata": {},
   "outputs": [
    {
     "name": "stdout",
     "output_type": "stream",
     "text": [
      "         Nome  Idade          Cidade  Salário\n",
      "0  Franscisco   28.0       São Paulo   3500.0\n",
      "1       James    NaN  Rio de Janeiro   4500.0\n",
      "2        Dave   35.0             NaN      NaN\n",
      "3         Ana   22.0        Salvador   5000.0\n",
      "4      Mônica    NaN    Porto Alegre   4800.0\n"
     ]
    }
   ],
   "source": [
    "import pandas as pd\n",
    "\n",
    "# 1. Carregar os dados do arquivo\n",
    "df = pd.read_excel(\"dados_ausentes.xlsx\")\n"
   ]
  },
  {
   "cell_type": "code",
   "execution_count": null,
   "metadata": {},
   "outputs": [],
   "source": [
    "# Verificar se exitem dados faltando\n",
    "print(df.isnull())"
   ]
  },
  {
   "cell_type": "code",
   "execution_count": null,
   "metadata": {},
   "outputs": [],
   "source": [
    "# Contar os valores ausentes\n",
    "print(df.isnull().sum())"
   ]
  },
  {
   "cell_type": "code",
   "execution_count": 2,
   "metadata": {},
   "outputs": [
    {
     "name": "stdout",
     "output_type": "stream",
     "text": [
      "         Nome  Idade     Cidade  Salário\n",
      "0  Franscisco   28.0  São Paulo   3500.0\n",
      "3         Ana   22.0   Salvador   5000.0\n"
     ]
    }
   ],
   "source": [
    "# Excluir as linhas com dados ausentes\n",
    "df_sem_nulos = df.dropna()\n",
    "print(df_sem_nulos)"
   ]
  },
  {
   "cell_type": "code",
   "execution_count": 4,
   "metadata": {},
   "outputs": [
    {
     "name": "stdout",
     "output_type": "stream",
     "text": [
      "         Nome  Idade          Cidade  Salário\n",
      "0  Franscisco   28.0       São Paulo   3500.0\n",
      "1       James    NaN  Rio de Janeiro   4500.0\n",
      "2        Dave   35.0    Desconhecida      NaN\n",
      "3         Ana   22.0        Salvador   5000.0\n",
      "4      Mônica    NaN    Porto Alegre   4800.0\n"
     ]
    }
   ],
   "source": [
    "# Substituir dados ausentes\n",
    "# Cidades - Desconhecidos\n",
    "\n",
    "df['Cidade'].fillna(\"Desconhecida\", inplace=True)\n",
    "\n",
    "print(df)"
   ]
  },
  {
   "cell_type": "code",
   "execution_count": 5,
   "metadata": {},
   "outputs": [
    {
     "name": "stdout",
     "output_type": "stream",
     "text": [
      "         Nome  Idade          Cidade  Salário\n",
      "0  Franscisco   28.0       São Paulo   3500.0\n",
      "1       James    NaN  Rio de Janeiro   4500.0\n",
      "2        Dave   35.0    Desconhecida      0.0\n",
      "3         Ana   22.0        Salvador   5000.0\n",
      "4      Mônica    NaN    Porto Alegre   4800.0\n"
     ]
    },
    {
     "name": "stderr",
     "output_type": "stream",
     "text": [
      "C:\\Users\\48260449846\\AppData\\Local\\Temp\\ipykernel_20608\\3468871594.py:2: FutureWarning: A value is trying to be set on a copy of a DataFrame or Series through chained assignment using an inplace method.\n",
      "The behavior will change in pandas 3.0. This inplace method will never work because the intermediate object on which we are setting values always behaves as a copy.\n",
      "\n",
      "For example, when doing 'df[col].method(value, inplace=True)', try using 'df.method({col: value}, inplace=True)' or df[col] = df[col].method(value) instead, to perform the operation inplace on the original object.\n",
      "\n",
      "\n",
      "  df['Salário'].fillna(0, inplace=True)\n"
     ]
    }
   ],
   "source": [
    "# Substituir dados ausentes\n",
    "df['Salário'].fillna(0, inplace=True)\n",
    "print(df)"
   ]
  },
  {
   "cell_type": "code",
   "execution_count": 6,
   "metadata": {},
   "outputs": [
    {
     "name": "stdout",
     "output_type": "stream",
     "text": [
      "         Nome      Idade          Cidade  Salário\n",
      "0  Franscisco  28.000000       São Paulo   3500.0\n",
      "1       James  28.333333  Rio de Janeiro   4500.0\n",
      "2        Dave  35.000000    Desconhecida      0.0\n",
      "3         Ana  22.000000        Salvador   5000.0\n",
      "4      Mônica  28.333333    Porto Alegre   4800.0\n"
     ]
    },
    {
     "name": "stderr",
     "output_type": "stream",
     "text": [
      "C:\\Users\\48260449846\\AppData\\Local\\Temp\\ipykernel_20608\\3722965419.py:3: FutureWarning: A value is trying to be set on a copy of a DataFrame or Series through chained assignment using an inplace method.\n",
      "The behavior will change in pandas 3.0. This inplace method will never work because the intermediate object on which we are setting values always behaves as a copy.\n",
      "\n",
      "For example, when doing 'df[col].method(value, inplace=True)', try using 'df.method({col: value}, inplace=True)' or df[col] = df[col].method(value) instead, to perform the operation inplace on the original object.\n",
      "\n",
      "\n",
      "  df['Idade'].fillna(df['Idade'].mean(), inplace=True)\n"
     ]
    }
   ],
   "source": [
    "# Substituir dados ausentes\n",
    "# Substituit 'Idade' pela média\n",
    "df['Idade'].fillna(df['Idade'].mean(), inplace=True)\n",
    "print(df)"
   ]
  }
 ],
 "metadata": {
  "kernelspec": {
   "display_name": "Python 3",
   "language": "python",
   "name": "python3"
  },
  "language_info": {
   "codemirror_mode": {
    "name": "ipython",
    "version": 3
   },
   "file_extension": ".py",
   "mimetype": "text/x-python",
   "name": "python",
   "nbconvert_exporter": "python",
   "pygments_lexer": "ipython3",
   "version": "3.12.1"
  }
 },
 "nbformat": 4,
 "nbformat_minor": 2
}
