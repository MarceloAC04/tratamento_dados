{
 "cells": [
  {
   "cell_type": "code",
   "execution_count": null,
   "metadata": {},
   "outputs": [],
   "source": [
    "# 1. Carregar os dados do arquivo\n",
    "import pandas as pd\n",
    "\n",
    "df = pd.read_excel(\"dados_ausentes_2.xlsx\")\n",
    "\n",
    "print(df)"
   ]
  },
  {
   "cell_type": "code",
   "execution_count": null,
   "metadata": {},
   "outputs": [],
   "source": [
    "# 1. Exercício: Carregar um arquivo e exibir as primeiras 5 linhas.\n",
    "print(df.head())"
   ]
  },
  {
   "cell_type": "code",
   "execution_count": null,
   "metadata": {},
   "outputs": [],
   "source": [
    "# 2. Exercício: Verificar se há valores NaN nas colunas do DataFrame.\n",
    "print(df.isnull())"
   ]
  },
  {
   "cell_type": "code",
   "execution_count": null,
   "metadata": {},
   "outputs": [],
   "source": [
    "# 3. Exercício: Substituir os valores NaN de uma coluna por 0.\n",
    "df['Salário'].fillna(0, inplace=True)\n",
    "\n",
    "print(df)"
   ]
  },
  {
   "cell_type": "code",
   "execution_count": null,
   "metadata": {},
   "outputs": [],
   "source": [
    "# 4. Exercício: Substituir os valores NaN de uma coluna por um valor específico (por exemplo, a média).\n",
    "df['Idade'].fillna(df['Idade'].mean(), inplace=True)\n",
    "print(df)"
   ]
  },
  {
   "cell_type": "code",
   "execution_count": null,
   "metadata": {},
   "outputs": [],
   "source": [
    "# 5. Exercício: Remover todas as linhas que contêm valores NaN em qualquer coluna\n",
    "df_sem_nulos = df.dropna()\n",
    "print(df_sem_nulos)"
   ]
  },
  {
   "cell_type": "code",
   "execution_count": null,
   "metadata": {},
   "outputs": [],
   "source": [
    "# 6. Exercício: Remover todas as linhas que contêm valores NaN em uma coluna específica.\n",
    "df_sem_nulos_especifico = df['Idade'].dropna()\n",
    "print(df_sem_nulos)"
   ]
  },
  {
   "cell_type": "code",
   "execution_count": null,
   "metadata": {},
   "outputs": [],
   "source": [
    "# 7. Exercício: Substituir valores NaN de uma coluna com a mediana dessa coluna.\n",
    "df['Salário'].fillna(df['Salário'].mean(), inplace=True)\n",
    "print(df)"
   ]
  },
  {
   "cell_type": "code",
   "execution_count": null,
   "metadata": {},
   "outputs": [],
   "source": [
    "# 8. Exercício: Substituir valores NaN de uma coluna com o valor de uma outra coluna.\n",
    "df['Idade'].fillna(df['Idade'].mean(), inplace=True)\n",
    "print(df)"
   ]
  },
  {
   "cell_type": "code",
   "execution_count": null,
   "metadata": {},
   "outputs": [],
   "source": [
    "# 9. Exercício: Preencher valores NaN com o valor anterior (método de forwardfill)\n",
    "df['Cidade'] = df['Cidade'].ffill()\n",
    "print(df)"
   ]
  },
  {
   "cell_type": "code",
   "execution_count": null,
   "metadata": {},
   "outputs": [],
   "source": [
    "# 10. Exercício: Preencher valores NaN com o valor posterior ( metodo de backward fill).\n",
    "df['Idade'] = df['Idade'].bfill()\n",
    "print(df)"
   ]
  },
  {
   "cell_type": "code",
   "execution_count": null,
   "metadata": {},
   "outputs": [],
   "source": [
    "# 11. Exercício: Alterar todos os valores de uma coluna para maiúsculas.\n",
    "df['Cidade'] = df['Cidade'].str.title() \n",
    "print(df)"
   ]
  },
  {
   "cell_type": "code",
   "execution_count": null,
   "metadata": {},
   "outputs": [],
   "source": [
    "# 12. Exercício: Alterar todos os valores de uma coluna para minúsculas.\n",
    "df['Nome'] = df['Nome'].str.lower() \n",
    "print(df)"
   ]
  },
  {
   "cell_type": "code",
   "execution_count": null,
   "metadata": {},
   "outputs": [],
   "source": [
    "# 13. Exercício: Remover espaços em branco à esquerda e à direita em uma coluna.\n",
    "df['Cidade'] = df['Cidade'].str.strip()\n",
    "print(df)"
   ]
  },
  {
   "cell_type": "code",
   "execution_count": null,
   "metadata": {},
   "outputs": [],
   "source": [
    "# 14. Exercício: Substituir valores de uma coluna com base em um dicionário de mapeamento (ex: São Paulo para SP).\n",
    "df['Cidade'] = df['Cidade'].str.lower().replace({'são paulo': 'SP', 'rio de janeiro': 'RJ'})\n",
    "print(df)"
   ]
  },
  {
   "cell_type": "code",
   "execution_count": null,
   "metadata": {},
   "outputs": [],
   "source": [
    "# 15 - Exercício: Identificar e remover valores duplicados de um DataFrame.\n",
    "df = df.drop_duplicates(subset=['Nome'])\n",
    "print(df)"
   ]
  }
 ],
 "metadata": {
  "kernelspec": {
   "display_name": "Python 3",
   "language": "python",
   "name": "python3"
  },
  "language_info": {
   "codemirror_mode": {
    "name": "ipython",
    "version": 3
   },
   "file_extension": ".py",
   "mimetype": "text/x-python",
   "name": "python",
   "nbconvert_exporter": "python",
   "pygments_lexer": "ipython3",
   "version": "3.12.1"
  }
 },
 "nbformat": 4,
 "nbformat_minor": 2
}
